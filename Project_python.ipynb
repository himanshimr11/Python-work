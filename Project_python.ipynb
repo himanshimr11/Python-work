{
  "nbformat": 4,
  "nbformat_minor": 0,
  "metadata": {
    "colab": {
      "provenance": [],
      "authorship_tag": "ABX9TyMGej9TqaD9AimZ56yPQV1q",
      "include_colab_link": true
    },
    "kernelspec": {
      "name": "python3",
      "display_name": "Python 3"
    },
    "language_info": {
      "name": "python"
    }
  },
  "cells": [
    {
      "cell_type": "markdown",
      "metadata": {
        "id": "view-in-github",
        "colab_type": "text"
      },
      "source": [
        "<a href=\"https://colab.research.google.com/github/himanshimr11/Python-work/blob/main/Project_python.ipynb\" target=\"_parent\"><img src=\"https://colab.research.google.com/assets/colab-badge.svg\" alt=\"Open In Colab\"/></a>"
      ]
    },
    {
      "cell_type": "code",
      "execution_count": 6,
      "metadata": {
        "id": "Bs8Jtq4d33ps",
        "colab": {
          "base_uri": "https://localhost:8080/"
        },
        "outputId": "35d3eea7-59a9-4656-c01a-9e650cc69423"
      },
      "outputs": [
        {
          "output_type": "stream",
          "name": "stdout",
          "text": [
            "<bound method NDFrame.head of    Class_Section Exam_Version  Completion_Time Made_Own_Study_Guide  \\\n",
            "0            M01            A               20                    N   \n",
            "1            M01            A               20                    ?   \n",
            "2            M01            A               30                    Y   \n",
            "3            M01            A               50                    N   \n",
            "4            M01            A               55                    Y   \n",
            "..           ...          ...              ...                  ...   \n",
            "60           M02            D               40                    ?   \n",
            "61           M02            D               45                    Y   \n",
            "62           M02            D               45                    ?   \n",
            "63           M02            D               55                    Y   \n",
            "64           M02            D               60                    N   \n",
            "\n",
            "   Did_Exam_Prep Assignment Studied_In_Groups  Student_Score Percentage  \\\n",
            "0                         N                 Y             24     80.00%   \n",
            "1                         ?                 ?             27     90.00%   \n",
            "2                         Y                 Y             30    100.00%   \n",
            "3                         Y                 Y             18     60.00%   \n",
            "4                         Y                 N             24     80.00%   \n",
            "..                      ...               ...            ...        ...   \n",
            "60                        ?                 ?             23     76.70%   \n",
            "61                        Y                 N             22     73.30%   \n",
            "62                        ?                 ?             24     80.00%   \n",
            "63                        Y                 N             24     80.00%   \n",
            "64                        N                 Y             24     80.00%   \n",
            "\n",
            "   Letter_Grade  \n",
            "0             B  \n",
            "1            A-  \n",
            "2             A  \n",
            "3            C-  \n",
            "4             B  \n",
            "..          ...  \n",
            "60           B-  \n",
            "61           C+  \n",
            "62            B  \n",
            "63            B  \n",
            "64            B  \n",
            "\n",
            "[65 rows x 9 columns]>\n",
            "Range of Score:17\n",
            "Interquantile Range(IQR) OF Scores: 4.0\n",
            "variance value: 15.133653846153841\n",
            "Standard Deviation:3.8901997180291197\n",
            "skewness:-0.5273630831522433\n"
          ]
        }
      ],
      "source": [
        "import pandas as pd\n",
        "import matplotlib.pyplot as plt\n",
        "url='https://github.com/mafudge/datasets/raw/refs/heads/master/exam-scores/exam-scores.csv'\n",
        "df=pd.read_csv(url)\n",
        "print(df.head)\n",
        "# Range(DISPERSION)\n",
        "r=df['Student_Score'].max()-df['Student_Score'].min()\n",
        "print(f\"Range of Score:{r}\")\n",
        "# Interquartile Range\n",
        "Q1=df['Student_Score'].quantile(0.25)\n",
        "Q3=df['Student_Score'].quantile(0.75)\n",
        "IQR=Q3-Q1\n",
        "print(f\"Interquantile Range(IQR) OF Scores: {IQR}\")\n",
        "#Variance\n",
        "var_value = df['Student_Score'].var()\n",
        "print(f\"variance value: {var_value}\")\n",
        "#Standard Deviation\n",
        "sd_value= df['Student_Score'].std()\n",
        "print(f\"Standard Deviation:{sd_value}\")\n",
        "#Skewness\n",
        "skew_value=df['Student_Score'].skew()\n",
        "print(f\"skewness:{skew_value}\")\n"
      ]
    },
    {
      "cell_type": "code",
      "source": [],
      "metadata": {
        "id": "-hyP1A1HUbwk"
      },
      "execution_count": null,
      "outputs": []
    }
  ]
}