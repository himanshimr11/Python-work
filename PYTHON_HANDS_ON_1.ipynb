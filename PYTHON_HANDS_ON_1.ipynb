{
  "nbformat": 4,
  "nbformat_minor": 0,
  "metadata": {
    "colab": {
      "provenance": [],
      "authorship_tag": "ABX9TyPB1uKhcd+7ivnMVYOh7YtX",
      "include_colab_link": true
    },
    "kernelspec": {
      "name": "python3",
      "display_name": "Python 3"
    },
    "language_info": {
      "name": "python"
    }
  },
  "cells": [
    {
      "cell_type": "markdown",
      "metadata": {
        "id": "view-in-github",
        "colab_type": "text"
      },
      "source": [
        "<a href=\"https://colab.research.google.com/github/himanshimr11/Python-work/blob/main/PYTHON_HANDS_ON_1.ipynb\" target=\"_parent\"><img src=\"https://colab.research.google.com/assets/colab-badge.svg\" alt=\"Open In Colab\"/></a>"
      ]
    },
    {
      "cell_type": "code",
      "execution_count": 13,
      "metadata": {
        "colab": {
          "base_uri": "https://localhost:8080/"
        },
        "id": "CV0dKD9OFO09",
        "outputId": "79935f10-c77f-4bd4-d0f8-c7e0aa444a7a"
      },
      "outputs": [
        {
          "output_type": "stream",
          "name": "stdout",
          "text": [
            "   PassengerId  Survived  Pclass  \\\n",
            "0            1         0       3   \n",
            "1            2         1       1   \n",
            "2            3         1       3   \n",
            "3            4         1       1   \n",
            "4            5         0       3   \n",
            "\n",
            "                                                Name     Sex   Age  SibSp  \\\n",
            "0                            Braund, Mr. Owen Harris    male  22.0      1   \n",
            "1  Cumings, Mrs. John Bradley (Florence Briggs Th...  female  38.0      1   \n",
            "2                             Heikkinen, Miss. Laina  female  26.0      0   \n",
            "3       Futrelle, Mrs. Jacques Heath (Lily May Peel)  female  35.0      1   \n",
            "4                           Allen, Mr. William Henry    male  35.0      0   \n",
            "\n",
            "   Parch            Ticket     Fare Cabin Embarked  \n",
            "0      0         A/5 21171   7.2500   NaN        S  \n",
            "1      0          PC 17599  71.2833   C85        C  \n",
            "2      0  STON/O2. 3101282   7.9250   NaN        S  \n",
            "3      0            113803  53.1000  C123        S  \n",
            "4      0            373450   8.0500   NaN        S  \n",
            "\n",
            "\n",
            "PassengerId      int64\n",
            "Survived         int64\n",
            "Pclass           int64\n",
            "Name            object\n",
            "Sex             object\n",
            "Age            float64\n",
            "SibSp            int64\n",
            "Parch            int64\n",
            "Ticket          object\n",
            "Fare           float64\n",
            "Cabin           object\n",
            "Embarked        object\n",
            "dtype: object\n",
            "\n",
            "\n",
            "mean value:-32.204207968574636\n",
            "median value:-14.4542\n",
            "mode value:-0    8.05\n",
            "Name: Fare, dtype: float64\n",
            "variance value:-2469.436845743117\n",
            "standard variation value:-49.693428597180905\n",
            "Skewness:4.787316519674893\n",
            "Kurtosis:33.39814088089868\n",
            "Range of Scores:512.3292\n",
            "Quartile range:23.0896\n"
          ]
        }
      ],
      "source": [
        "import pandas as pd\n",
        "import matplotlib.pyplot as plt\n",
        "url='https://raw.githubusercontent.com/datasciencedojo/datasets/master/titanic.csv'\n",
        "df=pd.read_csv(url)\n",
        "print(df.head())\n",
        "print(\"\\n\")\n",
        "print(df.dtypes)\n",
        "print(\"\\n\")\n",
        "\n",
        "#Mean\n",
        "mean_value=df['Fare'].mean()\n",
        "print(f\"mean value:-{mean_value}\")\n",
        "#Median\n",
        "median_value=df['Fare'].median()\n",
        "print(f\"median value:-{median_value}\")\n",
        "#Mode\n",
        "mode_value=df['Fare'].mode()\n",
        "print(f\"mode value:-{mode_value}\")\n",
        "#Variance\n",
        "var_value=df['Fare'].var()\n",
        "print(f\"variance value:-{var_value}\")\n",
        "#Standard deviation\n",
        "sd_value=df['Fare'].std()\n",
        "print(f\"standard variation value:-{sd_value}\")\n",
        "#Skewness\n",
        "skew_value=df['Fare'].skew()\n",
        "print(f\"Skewness:{skew_value}\")\n",
        "#Kurtosis\n",
        "kurtosis=df['Fare'].kurt()\n",
        "print(f\"Kurtosis:{kurtosis}\")\n",
        "#Range\n",
        "Range_Fare=df['Fare'].max()-df['Fare'].min()\n",
        "print(f\"Range of Scores:{Range_Fare}\")\n",
        "#Interquartile Range\n",
        "Q1=df['Fare'].quantile(0.25)\n",
        "Q3=df['Fare'].quantile(0.75)\n",
        "IQR=Q3-Q1\n",
        "print(f\"Quartile range:{IQR}\")\n",
        "\n"
      ]
    },
    {
      "cell_type": "code",
      "source": [],
      "metadata": {
        "id": "zS-lAX_-QBTL"
      },
      "execution_count": null,
      "outputs": []
    },
    {
      "cell_type": "code",
      "source": [
        "import"
      ],
      "metadata": {
        "id": "yDTuvHHdEJvl"
      },
      "execution_count": null,
      "outputs": []
    }
  ]
}